{
  "nbformat": 4,
  "nbformat_minor": 0,
  "metadata": {
    "colab": {
      "provenance": []
    },
    "kernelspec": {
      "name": "python3",
      "display_name": "Python 3"
    },
    "language_info": {
      "name": "python"
    }
  },
  "cells": [
    {
      "cell_type": "code",
      "execution_count": null,
      "metadata": {
        "id": "MzNSy9XpmPmq",
        "colab": {
          "base_uri": "https://localhost:8080/",
          "height": 35
        },
        "outputId": "8649631d-9a55-4fbb-e586-58bd389fc4af"
      },
      "outputs": [
        {
          "output_type": "execute_result",
          "data": {
            "text/plain": [
              "'Pedro Henrique'"
            ],
            "application/vnd.google.colaboratory.intrinsic+json": {
              "type": "string"
            }
          },
          "metadata": {},
          "execution_count": 8
        }
      ],
      "source": [
        "# Exercicio 1\n",
        "\n",
        "# Crie uma variável chamada nome e atribua o seu nome a ela\n",
        "nome = \"Pedro Henrique\"\n",
        "nome"
      ]
    },
    {
      "cell_type": "code",
      "source": [
        "# Crie uma variável chamada idade e atribua sua idade a ela.\n",
        "idade = 22\n",
        "idade"
      ],
      "metadata": {
        "colab": {
          "base_uri": "https://localhost:8080/"
        },
        "id": "n4Yk9F6en8u3",
        "outputId": "d062c081-79c1-432c-ec57-3422ed487376"
      },
      "execution_count": null,
      "outputs": [
        {
          "output_type": "execute_result",
          "data": {
            "text/plain": [
              "22"
            ]
          },
          "metadata": {},
          "execution_count": 4
        }
      ]
    },
    {
      "cell_type": "code",
      "source": [
        "# Crie uma variável chamada altura e atribua sua altura (em metros) a ela\n",
        "altura = 1.73\n",
        "altura"
      ],
      "metadata": {
        "colab": {
          "base_uri": "https://localhost:8080/"
        },
        "id": "76WuR9WOoBqF",
        "outputId": "d52ef24d-5313-465b-8854-97f1d7f89834"
      },
      "execution_count": null,
      "outputs": [
        {
          "output_type": "execute_result",
          "data": {
            "text/plain": [
              "1.73"
            ]
          },
          "metadata": {},
          "execution_count": 5
        }
      ]
    },
    {
      "cell_type": "code",
      "source": [
        "# Mostre na tela a concatenação das informações:\n",
        "print( \"Meu nome é {a}, tenho {b} anos e minha altura é {c} metros.\".format (a = nome, b = idade, c = altura))"
      ],
      "metadata": {
        "colab": {
          "base_uri": "https://localhost:8080/"
        },
        "id": "UiHLjzeLoJCE",
        "outputId": "8abd8509-a079-49c4-f4e5-02b4e385448b"
      },
      "execution_count": null,
      "outputs": [
        {
          "output_type": "stream",
          "name": "stdout",
          "text": [
            "Meu nome é Pedro Henrique, tenho 22 anos e minha altura é 1.73 metros.\n"
          ]
        }
      ]
    },
    {
      "cell_type": "code",
      "source": [
        "# Exercicio 2\n",
        "\n",
        "# Crie uma variável chamada frase e atribua a seguinte frase a ela\n",
        "frase = \"Python é uma linguagem de programação muito poderosa.\"\n",
        "frase"
      ],
      "metadata": {
        "colab": {
          "base_uri": "https://localhost:8080/",
          "height": 35
        },
        "id": "j-z0A26Voqm2",
        "outputId": "2a77e2b0-83f1-49b3-f037-9d1d5662eb71"
      },
      "execution_count": null,
      "outputs": [
        {
          "output_type": "execute_result",
          "data": {
            "text/plain": [
              "'Python é uma linguagem de programação muito poderosa.'"
            ],
            "application/vnd.google.colaboratory.intrinsic+json": {
              "type": "string"
            }
          },
          "metadata": {},
          "execution_count": 10
        }
      ]
    },
    {
      "cell_type": "code",
      "source": [
        "# Utilize o método .upper() para transformar toda a frase em maiúsculas e imprima o resultado\n",
        "frase.upper()"
      ],
      "metadata": {
        "colab": {
          "base_uri": "https://localhost:8080/",
          "height": 35
        },
        "id": "0xGaixFYpNzE",
        "outputId": "5cc8fe6a-ab5a-42b4-f062-b5c6abb18d27"
      },
      "execution_count": null,
      "outputs": [
        {
          "output_type": "execute_result",
          "data": {
            "text/plain": [
              "'PYTHON É UMA LINGUAGEM DE PROGRAMAÇÃO MUITO PODEROSA.'"
            ],
            "application/vnd.google.colaboratory.intrinsic+json": {
              "type": "string"
            }
          },
          "metadata": {},
          "execution_count": 11
        }
      ]
    },
    {
      "cell_type": "code",
      "source": [
        "# Utilize o método .lower() para transformar toda a frase em minúsculas e imprima o resultado.\n",
        "frase.lower()"
      ],
      "metadata": {
        "colab": {
          "base_uri": "https://localhost:8080/",
          "height": 35
        },
        "id": "JEL7MLCjpczT",
        "outputId": "69d39c47-844f-495d-89b0-47399932499a"
      },
      "execution_count": null,
      "outputs": [
        {
          "output_type": "execute_result",
          "data": {
            "text/plain": [
              "'python é uma linguagem de programação muito poderosa.'"
            ],
            "application/vnd.google.colaboratory.intrinsic+json": {
              "type": "string"
            }
          },
          "metadata": {},
          "execution_count": 12
        }
      ]
    },
    {
      "cell_type": "code",
      "source": [
        "# Utilize o método .replace() para substituir a palavra \"muito\" por \"extremamente\". Imprima o resultado\n",
        "frase = frase.replace(\"muito\", \"extremamente\")\n",
        "frase"
      ],
      "metadata": {
        "colab": {
          "base_uri": "https://localhost:8080/",
          "height": 35
        },
        "id": "sZj8dutKpwxB",
        "outputId": "ee68570e-ea83-4a30-cda6-53ce88dabaa7"
      },
      "execution_count": null,
      "outputs": [
        {
          "output_type": "execute_result",
          "data": {
            "text/plain": [
              "'Python é uma linguagem de programação extremamente poderosa.'"
            ],
            "application/vnd.google.colaboratory.intrinsic+json": {
              "type": "string"
            }
          },
          "metadata": {},
          "execution_count": 14
        }
      ]
    },
    {
      "cell_type": "code",
      "source": [
        "# Utilize o método .split() para dividir a frase em palavras e imprima o resultado como uma lista.\n",
        "frase.split()"
      ],
      "metadata": {
        "colab": {
          "base_uri": "https://localhost:8080/"
        },
        "id": "uDesqmMXqAxy",
        "outputId": "20628750-37ca-45fe-db09-66eda5ae1f71"
      },
      "execution_count": null,
      "outputs": [
        {
          "output_type": "execute_result",
          "data": {
            "text/plain": [
              "['Python',\n",
              " 'é',\n",
              " 'uma',\n",
              " 'linguagem',\n",
              " 'de',\n",
              " 'programação',\n",
              " 'extremamente',\n",
              " 'poderosa.']"
            ]
          },
          "metadata": {},
          "execution_count": 15
        }
      ]
    },
    {
      "cell_type": "code",
      "source": [
        "# Exercicio 3\n",
        "# Crie uma lista chamada frutas contendo os seguintes itens: \"maçã\", \"banana\", \"laranja\",\"uva\", \"abacaxi\".\n",
        "frutas = [\"maçã\", \"banana\", \"laranja\", \"uva\", \"abacaxi\"]\n",
        "frutas\n"
      ],
      "metadata": {
        "colab": {
          "base_uri": "https://localhost:8080/"
        },
        "id": "cQgtBS5yqVcD",
        "outputId": "a6a87735-5eff-46ab-83a7-de537ed93b15"
      },
      "execution_count": null,
      "outputs": [
        {
          "output_type": "execute_result",
          "data": {
            "text/plain": [
              "['maçã', 'banana', 'laranja', 'uva', 'abacaxi']"
            ]
          },
          "metadata": {},
          "execution_count": 16
        }
      ]
    },
    {
      "cell_type": "code",
      "source": [
        "# Adicione o item \"manga\" à lista frutas utilizando o método .append() e imprima a lista novamente.\n",
        "frutas.append(\"manga\")\n",
        "frutas"
      ],
      "metadata": {
        "colab": {
          "base_uri": "https://localhost:8080/"
        },
        "id": "wNwEctYJqvYk",
        "outputId": "a7424d96-94cc-4e98-febb-956f5eea9aac"
      },
      "execution_count": null,
      "outputs": [
        {
          "output_type": "execute_result",
          "data": {
            "text/plain": [
              "['maçã', 'banana', 'laranja', 'uva', 'abacaxi', 'manga']"
            ]
          },
          "metadata": {},
          "execution_count": 17
        }
      ]
    },
    {
      "cell_type": "code",
      "source": [
        "# Remova o item \"laranja\" da lista frutas utilizando o método .remove() e imprima a lista.\n",
        "frutas.remove(\"laranja\")\n",
        "frutas"
      ],
      "metadata": {
        "colab": {
          "base_uri": "https://localhost:8080/"
        },
        "id": "PfLBX97uq7MC",
        "outputId": "11897483-d1a1-4742-8b54-0cb19b138c05"
      },
      "execution_count": null,
      "outputs": [
        {
          "output_type": "execute_result",
          "data": {
            "text/plain": [
              "['maçã', 'banana', 'uva', 'abacaxi', 'manga']"
            ]
          },
          "metadata": {},
          "execution_count": 18
        }
      ]
    },
    {
      "cell_type": "code",
      "source": [
        "# Acesse o terceiro item da lista frutas (lembrando que as listas começam em 0) e imprima-o.\n",
        "print(frutas[2])"
      ],
      "metadata": {
        "colab": {
          "base_uri": "https://localhost:8080/"
        },
        "id": "H546D1ZWrmkj",
        "outputId": "01c93f30-3d97-48ef-96ca-8b7b5428d56b"
      },
      "execution_count": null,
      "outputs": [
        {
          "output_type": "stream",
          "name": "stdout",
          "text": [
            "uva\n"
          ]
        }
      ]
    },
    {
      "cell_type": "code",
      "source": [
        "# Ordene a lista frutas em ordem alfabética utilizando o método .sort() e imprima a lista.\n",
        "frutas.sort()\n",
        "frutas"
      ],
      "metadata": {
        "colab": {
          "base_uri": "https://localhost:8080/"
        },
        "id": "BKvjk9d0sAKA",
        "outputId": "4c5e9d56-3f1e-46ac-c6a3-f9e961662141"
      },
      "execution_count": null,
      "outputs": [
        {
          "output_type": "execute_result",
          "data": {
            "text/plain": [
              "['abacaxi', 'banana', 'manga', 'maçã', 'uva']"
            ]
          },
          "metadata": {},
          "execution_count": 20
        }
      ]
    },
    {
      "cell_type": "code",
      "source": [
        "# - Crie uma lista chamada numeros com os valores [10, 5, 8, 3, 6]. Utilize a função sum() para calcular a soma de todos os elementos dessa lista e imprima o resultado.\n",
        "numeros = [10, 5, 8, 3, 6]\n",
        "sum(numeros)"
      ],
      "metadata": {
        "colab": {
          "base_uri": "https://localhost:8080/"
        },
        "id": "DdKCCKWosGHi",
        "outputId": "a9df503e-458b-417e-9a92-d0d98268e773"
      },
      "execution_count": null,
      "outputs": [
        {
          "output_type": "execute_result",
          "data": {
            "text/plain": [
              "32"
            ]
          },
          "metadata": {},
          "execution_count": 22
        }
      ]
    },
    {
      "cell_type": "code",
      "source": [
        "# Exercicio 4\n",
        "# Crie um dicionário chamado pessoa com as seguintes chaves e valores:\n",
        "pessoa = {\"nome\":\"Carlos\", \"idade\":\"30\", \"cidade\":\"São Paulo\"}"
      ],
      "metadata": {
        "id": "wlETcczmUjux"
      },
      "execution_count": null,
      "outputs": []
    },
    {
      "cell_type": "code",
      "source": [
        "# Imprima o dicionário pessoa.\n",
        "pessoa"
      ],
      "metadata": {
        "colab": {
          "base_uri": "https://localhost:8080/"
        },
        "id": "X-Dx95lBVMVB",
        "outputId": "6fcbbdb7-648d-45c4-bb77-69efb7816691"
      },
      "execution_count": null,
      "outputs": [
        {
          "output_type": "execute_result",
          "data": {
            "text/plain": [
              "{'nome': 'Carlos', 'idade': '30', 'cidade': 'São Paulo'}"
            ]
          },
          "metadata": {},
          "execution_count": 3
        }
      ]
    },
    {
      "cell_type": "code",
      "source": [
        "# Acesse e imprima o valor associado à chave \"nome\".\n",
        "pessoa['nome']"
      ],
      "metadata": {
        "colab": {
          "base_uri": "https://localhost:8080/",
          "height": 35
        },
        "id": "QF0OkeOGVcDR",
        "outputId": "29f9e5d4-6c75-4f74-b6f5-d31709996990"
      },
      "execution_count": null,
      "outputs": [
        {
          "output_type": "execute_result",
          "data": {
            "text/plain": [
              "'Carlos'"
            ],
            "application/vnd.google.colaboratory.intrinsic+json": {
              "type": "string"
            }
          },
          "metadata": {},
          "execution_count": 4
        }
      ]
    },
    {
      "cell_type": "code",
      "source": [
        "# Altere a idade de \"Carlos\" para 31 e imprima o dicionário novamente.\n",
        "pessoa['idade'] = \"31\"\n",
        "pessoa"
      ],
      "metadata": {
        "colab": {
          "base_uri": "https://localhost:8080/"
        },
        "id": "6lYTSM3AViJg",
        "outputId": "f625bdf4-6f64-48cb-8400-819a1e8ea291"
      },
      "execution_count": null,
      "outputs": [
        {
          "output_type": "execute_result",
          "data": {
            "text/plain": [
              "{'nome': 'Carlos', 'idade': '31', 'cidade': 'São Paulo'}"
            ]
          },
          "metadata": {},
          "execution_count": 5
        }
      ]
    },
    {
      "cell_type": "code",
      "source": [
        "# Adicione uma nova chave \"profissão\" ao dicionário com o valor \"engenheiro\". Imprima o dicionário atualizado\n",
        "pessoa['profissão'] = 'engenheiro'\n",
        "pessoa"
      ],
      "metadata": {
        "colab": {
          "base_uri": "https://localhost:8080/"
        },
        "id": "sUZYyFBIVrIh",
        "outputId": "bde70ff1-bdcd-4287-bcc4-e3bb7af168f5"
      },
      "execution_count": null,
      "outputs": [
        {
          "output_type": "execute_result",
          "data": {
            "text/plain": [
              "{'nome': 'Carlos',\n",
              " 'idade': '31',\n",
              " 'cidade': 'São Paulo',\n",
              " 'profissão': 'engenheiro'}"
            ]
          },
          "metadata": {},
          "execution_count": 6
        }
      ]
    },
    {
      "cell_type": "code",
      "source": [
        "# Remova a chave \"cidade\" do dicionário e imprima o dicionário após a remoção.\n",
        "del pessoa['cidade']\n",
        "pessoa"
      ],
      "metadata": {
        "colab": {
          "base_uri": "https://localhost:8080/"
        },
        "id": "VN0SZB3kWQ9h",
        "outputId": "90c70dbf-ea19-45b1-cffc-9f668273a0e1"
      },
      "execution_count": null,
      "outputs": [
        {
          "output_type": "execute_result",
          "data": {
            "text/plain": [
              "{'nome': 'Carlos', 'idade': '31', 'profissão': 'engenheiro'}"
            ]
          },
          "metadata": {},
          "execution_count": 7
        }
      ]
    },
    {
      "cell_type": "code",
      "source": [
        "# Utilize o método .keys() para imprimir todas as chaves do dicionário.\n",
        "pessoa.keys()"
      ],
      "metadata": {
        "id": "Gn6bsoUEWdSz",
        "outputId": "cf878683-9d43-4bc8-e04d-0f7e3e907544",
        "colab": {
          "base_uri": "https://localhost:8080/"
        }
      },
      "execution_count": null,
      "outputs": [
        {
          "output_type": "execute_result",
          "data": {
            "text/plain": [
              "dict_keys(['nome', 'idade', 'profissão'])"
            ]
          },
          "metadata": {},
          "execution_count": 8
        }
      ]
    },
    {
      "cell_type": "code",
      "source": [
        "# - Utilize o método .values() para imprimir todos os valores do dicionário.\n",
        "pessoa.values()"
      ],
      "metadata": {
        "id": "wYfUIZtpWj1q",
        "colab": {
          "base_uri": "https://localhost:8080/"
        },
        "outputId": "5267f74d-1d1b-49c9-927e-cce335fb7b5b"
      },
      "execution_count": null,
      "outputs": [
        {
          "output_type": "execute_result",
          "data": {
            "text/plain": [
              "dict_values(['Carlos', '31', 'engenheiro'])"
            ]
          },
          "metadata": {},
          "execution_count": 10
        }
      ]
    },
    {
      "cell_type": "code",
      "source": [
        "# Exercicio 5\n",
        "# Crie uma tupla chamada cores contendo as seguintes cores: \"vermelho\", \"azul\", \"verde\", \"amarelo\", \"roxo\".\n",
        "cores = (\"vermelho\", \"azul\", \"verde\", \"amarelo\", \"roxo\")\n",
        "cores"
      ],
      "metadata": {
        "colab": {
          "base_uri": "https://localhost:8080/"
        },
        "id": "-Kckbs95aRtG",
        "outputId": "0c7dc4d3-fc47-490d-e22b-c209abce3d40"
      },
      "execution_count": null,
      "outputs": [
        {
          "output_type": "execute_result",
          "data": {
            "text/plain": [
              "('vermelho', 'azul', 'verde', 'amarelo', 'roxo')"
            ]
          },
          "metadata": {},
          "execution_count": 12
        }
      ]
    },
    {
      "cell_type": "code",
      "source": [
        "# Acesse e imprima o segundo item da tupla cores.\n",
        "cores[1]"
      ],
      "metadata": {
        "colab": {
          "base_uri": "https://localhost:8080/",
          "height": 35
        },
        "id": "anIOsEylbI_e",
        "outputId": "080a8f2f-9ea2-43ba-e980-707b9656c170"
      },
      "execution_count": null,
      "outputs": [
        {
          "output_type": "execute_result",
          "data": {
            "text/plain": [
              "'azul'"
            ],
            "application/vnd.google.colaboratory.intrinsic+json": {
              "type": "string"
            }
          },
          "metadata": {},
          "execution_count": 13
        }
      ]
    },
    {
      "cell_type": "code",
      "source": [
        "#Verifique se a cor \"azul\" está presente na tupla cores e imprima True ou False dependendo da resposta.\n",
        "cores = (\"vermelho\", \"azul\", \"verde\", \"amarelo\")\n",
        "for i in cores:\n",
        "  if i == \"azul\":\n",
        "    print(f\"{i}:True\")\n",
        "  else:\n",
        "    print(f\"{i}:False\")"
      ],
      "metadata": {
        "colab": {
          "base_uri": "https://localhost:8080/"
        },
        "id": "5I0-h1ae_wJc",
        "outputId": "adc56795-c765-42aa-b8f5-b620df201b6a"
      },
      "execution_count": 7,
      "outputs": [
        {
          "output_type": "stream",
          "name": "stdout",
          "text": [
            "vermelho:False\n",
            "azul:True\n",
            "verde:False\n",
            "amarelo:False\n"
          ]
        }
      ]
    },
    {
      "cell_type": "code",
      "source": [
        "# Crie uma tupla chamada numeros contendo os números (1, 2, 3, 4, 5).\n",
        "numeros = (1, 2, 3, 4, 5)\n",
        "numeros"
      ],
      "metadata": {
        "colab": {
          "base_uri": "https://localhost:8080/"
        },
        "id": "3hj50duJC4pn",
        "outputId": "afe75fb0-e7df-4541-df8a-727d67a85681"
      },
      "execution_count": 8,
      "outputs": [
        {
          "output_type": "execute_result",
          "data": {
            "text/plain": [
              "(1, 2, 3, 4, 5)"
            ]
          },
          "metadata": {},
          "execution_count": 8
        }
      ]
    },
    {
      "cell_type": "code",
      "source": [
        "# Some todos os elementos da tupla numeros e imprima o resultado.\n",
        "sum(numeros)"
      ],
      "metadata": {
        "colab": {
          "base_uri": "https://localhost:8080/"
        },
        "id": "6rtjJG_9DGJd",
        "outputId": "4a0facec-d7b0-4604-b3e7-a7377f0d89b5"
      },
      "execution_count": 9,
      "outputs": [
        {
          "output_type": "execute_result",
          "data": {
            "text/plain": [
              "15"
            ]
          },
          "metadata": {},
          "execution_count": 9
        }
      ]
    },
    {
      "cell_type": "code",
      "source": [
        "# Tente alterar o valor do terceiro item da tupla cores para \"laranja\". O que acontece? Explique por que não é possível alterar um valor em uma tupla.\n",
        "numeros[2] = \"laranja\"\n",
        "# Ele dá um erro pois os valores das tuplas são imutaveis, diferente das listas."
      ],
      "metadata": {
        "colab": {
          "base_uri": "https://localhost:8080/",
          "height": 176
        },
        "id": "gUh5A0n7DkYJ",
        "outputId": "94e0903e-be99-4f09-fed8-8149c94cfc08"
      },
      "execution_count": 10,
      "outputs": [
        {
          "output_type": "error",
          "ename": "TypeError",
          "evalue": "'tuple' object does not support item assignment",
          "traceback": [
            "\u001b[0;31m---------------------------------------------------------------------------\u001b[0m",
            "\u001b[0;31mTypeError\u001b[0m                                 Traceback (most recent call last)",
            "\u001b[0;32m<ipython-input-10-db6531380562>\u001b[0m in \u001b[0;36m<cell line: 0>\u001b[0;34m()\u001b[0m\n\u001b[1;32m      1\u001b[0m \u001b[0;31m# Tente alterar o valor do terceiro item da tupla cores para \"laranja\". O que acontece? Explique por que não é possível alterar um valor em uma tupla.\u001b[0m\u001b[0;34m\u001b[0m\u001b[0;34m\u001b[0m\u001b[0m\n\u001b[0;32m----> 2\u001b[0;31m \u001b[0mnumeros\u001b[0m\u001b[0;34m[\u001b[0m\u001b[0;36m2\u001b[0m\u001b[0;34m]\u001b[0m \u001b[0;34m=\u001b[0m \u001b[0;34m\"laranja\"\u001b[0m\u001b[0;34m\u001b[0m\u001b[0;34m\u001b[0m\u001b[0m\n\u001b[0m",
            "\u001b[0;31mTypeError\u001b[0m: 'tuple' object does not support item assignment"
          ]
        }
      ]
    },
    {
      "cell_type": "code",
      "source": [
        "# Crie uma nova tupla chamada nova_cores que seja a concatenação da tupla cores com uma nova tupla (\"preto\", \"branco\") e imprima o resultado.\n",
        "cores2 = (\"preto\", \"branco\")\n",
        "\n",
        "nova_tupla = cores + cores2\n",
        "nova_tupla"
      ],
      "metadata": {
        "colab": {
          "base_uri": "https://localhost:8080/"
        },
        "id": "LZXK42pAD6Ck",
        "outputId": "379851e5-57d6-4660-885a-bc511fe764e0"
      },
      "execution_count": 11,
      "outputs": [
        {
          "output_type": "execute_result",
          "data": {
            "text/plain": [
              "('vermelho', 'azul', 'verde', 'amarelo', 'preto', 'branco')"
            ]
          },
          "metadata": {},
          "execution_count": 11
        }
      ]
    },
    {
      "cell_type": "code",
      "source": [
        "# Exercicio 6\n",
        "# Crie um programa que receba a altura e o peso de uma pessoa e imprima seu IMC.\n",
        "print(\"***CALCULO DE IMC***\")\n",
        "print(\"Digite seu peso em kg: \")\n",
        "a = float(input())\n",
        "print(\"Digite sua altura: \")\n",
        "b = float(input())\n",
        "\n",
        "IMC = a/(b**2)\n",
        "\n",
        "print(\"Seu IMC é {IMC}kg/m²\".format(IMC = IMC))"
      ],
      "metadata": {
        "colab": {
          "base_uri": "https://localhost:8080/"
        },
        "id": "FZpksu0_sU50",
        "outputId": "60c0dbd8-c985-47cf-841f-6032dd52a09b"
      },
      "execution_count": null,
      "outputs": [
        {
          "output_type": "stream",
          "name": "stdout",
          "text": [
            "***CALCULO DE IMC***\n",
            "Digite seu peso em kg: \n",
            "58\n",
            "Digite sua altura: \n",
            "1.71\n",
            "Seu IMC é 19.835162956123252kg/m²\n"
          ]
        }
      ]
    },
    {
      "cell_type": "code",
      "source": [
        "# Exercicio 7\n",
        "# Escreva um programa que pergunte o nome completo do usuário e o cumprimente pelo primeiro nome.\n",
        "print(\"Digite seu nome completo: \")\n",
        "nome = input()\n",
        "primeiro_nome = nome.split()[0]\n",
        "print(\"Olá,\", primeiro_nome)\n",
        "\n"
      ],
      "metadata": {
        "colab": {
          "base_uri": "https://localhost:8080/"
        },
        "id": "BW4pvIpBvPbj",
        "outputId": "cbdbd53a-1e89-41e1-e109-39b1a08db605"
      },
      "execution_count": null,
      "outputs": [
        {
          "output_type": "stream",
          "name": "stdout",
          "text": [
            "Digite seu nome completo: \n",
            "Pedro Henrique\n",
            "Olá, Pedro\n"
          ]
        }
      ]
    },
    {
      "cell_type": "code",
      "source": [
        "# Exercicio 8\n",
        "# Escreva um código que extraia o domínio de um e-mail informado.\n",
        "print(\"Digite seu email: \")\n",
        "email = input()\n",
        "dominio = email.split(\"@\")[1]\n",
        "\n",
        "print(\"O domínio do seu email é\", dominio)"
      ],
      "metadata": {
        "colab": {
          "base_uri": "https://localhost:8080/"
        },
        "id": "xgPFQPfJxL3z",
        "outputId": "e1520152-484a-46fc-8fc2-a63e83e60eb3"
      },
      "execution_count": null,
      "outputs": [
        {
          "output_type": "stream",
          "name": "stdout",
          "text": [
            "Digite seu email: \n",
            "ribeirocaldeirajph123@gmail.com\n",
            "O domínio do seu email é gmail.com\n"
          ]
        }
      ]
    },
    {
      "cell_type": "code",
      "source": [
        "# Exercicio 9\n",
        "print(\"Quanto você ganha por hora? \")\n",
        "salario_hora = float(input())\n",
        "print(\"Quantas horas você trabalha no mês? \")\n",
        "horas_mes = float(input())\n",
        "\n",
        "salario_bruto = salario_hora * horas_mes\n",
        "IR = 0.11 * salario_bruto\n",
        "INSS = 0.08 * salario_bruto\n",
        "sindicato = 0.05 * salario_bruto\n",
        "salario_liquido = salario_bruto - IR - INSS - sindicato\n",
        "\n",
        "print(\"Você recebe R${:.2f} como salário bruto no mês. Após pagar R${:.2f} ao IR, R${:.2f} ao INSS, e R${:.2f} ao sindicato, você fez o L e terminou com R${:.2f} no mês.\".format(salario_bruto, IR, INSS, sindicato, salario_liquido))\n"
      ],
      "metadata": {
        "colab": {
          "base_uri": "https://localhost:8080/"
        },
        "id": "9IYvV5zuE69B",
        "outputId": "c50e5930-3a3e-4138-a395-6b8359c51c24"
      },
      "execution_count": 13,
      "outputs": [
        {
          "output_type": "stream",
          "name": "stdout",
          "text": [
            "Quanto você ganha por hora? \n",
            "1000\n",
            "Quantas horas você trabalha no mês? \n",
            "10\n",
            "Você recebe R$10000.00 como salário bruto no mês. Após pagar R$1100.00 ao IR, R$800.00 ao INSS, e R$500.00 ao sindicato, você fez o L e terminou com R$7600.00 no mês.\n"
          ]
        }
      ]
    }
  ]
}