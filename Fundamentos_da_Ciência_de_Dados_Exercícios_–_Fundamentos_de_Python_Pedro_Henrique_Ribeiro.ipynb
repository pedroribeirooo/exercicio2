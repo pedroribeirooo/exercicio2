{
  "nbformat": 4,
  "nbformat_minor": 0,
  "metadata": {
    "colab": {
      "provenance": []
    },
    "kernelspec": {
      "name": "python3",
      "display_name": "Python 3"
    },
    "language_info": {
      "name": "python"
    }
  },
  "cells": [
    {
      "cell_type": "code",
      "execution_count": 8,
      "metadata": {
        "id": "MzNSy9XpmPmq",
        "colab": {
          "base_uri": "https://localhost:8080/",
          "height": 35
        },
        "outputId": "8649631d-9a55-4fbb-e586-58bd389fc4af"
      },
      "outputs": [
        {
          "output_type": "execute_result",
          "data": {
            "text/plain": [
              "'Pedro Henrique'"
            ],
            "application/vnd.google.colaboratory.intrinsic+json": {
              "type": "string"
            }
          },
          "metadata": {},
          "execution_count": 8
        }
      ],
      "source": [
        "# Exercicio 1\n",
        "\n",
        "# Crie uma variável chamada nome e atribua o seu nome a ela\n",
        "nome = \"Pedro Henrique\"\n",
        "nome"
      ]
    },
    {
      "cell_type": "code",
      "source": [
        "# Crie uma variável chamada idade e atribua sua idade a ela.\n",
        "idade = 22\n",
        "idade"
      ],
      "metadata": {
        "colab": {
          "base_uri": "https://localhost:8080/"
        },
        "id": "n4Yk9F6en8u3",
        "outputId": "d062c081-79c1-432c-ec57-3422ed487376"
      },
      "execution_count": 4,
      "outputs": [
        {
          "output_type": "execute_result",
          "data": {
            "text/plain": [
              "22"
            ]
          },
          "metadata": {},
          "execution_count": 4
        }
      ]
    },
    {
      "cell_type": "code",
      "source": [
        "# Crie uma variável chamada altura e atribua sua altura (em metros) a ela\n",
        "altura = 1.73\n",
        "altura"
      ],
      "metadata": {
        "colab": {
          "base_uri": "https://localhost:8080/"
        },
        "id": "76WuR9WOoBqF",
        "outputId": "d52ef24d-5313-465b-8854-97f1d7f89834"
      },
      "execution_count": 5,
      "outputs": [
        {
          "output_type": "execute_result",
          "data": {
            "text/plain": [
              "1.73"
            ]
          },
          "metadata": {},
          "execution_count": 5
        }
      ]
    },
    {
      "cell_type": "code",
      "source": [
        "# Mostre na tela a concatenação das informações:\n",
        "print( \"Meu nome é {a}, tenho {b} anos e minha altura é {c} metros.\".format (a = nome, b = idade, c = altura))"
      ],
      "metadata": {
        "colab": {
          "base_uri": "https://localhost:8080/"
        },
        "id": "UiHLjzeLoJCE",
        "outputId": "8abd8509-a079-49c4-f4e5-02b4e385448b"
      },
      "execution_count": 9,
      "outputs": [
        {
          "output_type": "stream",
          "name": "stdout",
          "text": [
            "Meu nome é Pedro Henrique, tenho 22 anos e minha altura é 1.73 metros.\n"
          ]
        }
      ]
    },
    {
      "cell_type": "code",
      "source": [
        "# Exercicio 2\n",
        "\n",
        "# Crie uma variável chamada frase e atribua a seguinte frase a ela\n",
        "frase = \"Python é uma linguagem de programação muito poderosa.\"\n",
        "frase"
      ],
      "metadata": {
        "colab": {
          "base_uri": "https://localhost:8080/",
          "height": 35
        },
        "id": "j-z0A26Voqm2",
        "outputId": "2a77e2b0-83f1-49b3-f037-9d1d5662eb71"
      },
      "execution_count": 10,
      "outputs": [
        {
          "output_type": "execute_result",
          "data": {
            "text/plain": [
              "'Python é uma linguagem de programação muito poderosa.'"
            ],
            "application/vnd.google.colaboratory.intrinsic+json": {
              "type": "string"
            }
          },
          "metadata": {},
          "execution_count": 10
        }
      ]
    },
    {
      "cell_type": "code",
      "source": [
        "# Utilize o método .upper() para transformar toda a frase em maiúsculas e imprima o resultado\n",
        "frase.upper()"
      ],
      "metadata": {
        "colab": {
          "base_uri": "https://localhost:8080/",
          "height": 35
        },
        "id": "0xGaixFYpNzE",
        "outputId": "5cc8fe6a-ab5a-42b4-f062-b5c6abb18d27"
      },
      "execution_count": 11,
      "outputs": [
        {
          "output_type": "execute_result",
          "data": {
            "text/plain": [
              "'PYTHON É UMA LINGUAGEM DE PROGRAMAÇÃO MUITO PODEROSA.'"
            ],
            "application/vnd.google.colaboratory.intrinsic+json": {
              "type": "string"
            }
          },
          "metadata": {},
          "execution_count": 11
        }
      ]
    },
    {
      "cell_type": "code",
      "source": [
        "# Utilize o método .lower() para transformar toda a frase em minúsculas e imprima o resultado.\n",
        "frase.lower()"
      ],
      "metadata": {
        "colab": {
          "base_uri": "https://localhost:8080/",
          "height": 35
        },
        "id": "JEL7MLCjpczT",
        "outputId": "69d39c47-844f-495d-89b0-47399932499a"
      },
      "execution_count": 12,
      "outputs": [
        {
          "output_type": "execute_result",
          "data": {
            "text/plain": [
              "'python é uma linguagem de programação muito poderosa.'"
            ],
            "application/vnd.google.colaboratory.intrinsic+json": {
              "type": "string"
            }
          },
          "metadata": {},
          "execution_count": 12
        }
      ]
    },
    {
      "cell_type": "code",
      "source": [
        "# Utilize o método .replace() para substituir a palavra \"muito\" por \"extremamente\". Imprima o resultado\n",
        "frase = frase.replace(\"muito\", \"extremamente\")\n",
        "frase"
      ],
      "metadata": {
        "colab": {
          "base_uri": "https://localhost:8080/",
          "height": 35
        },
        "id": "sZj8dutKpwxB",
        "outputId": "ee68570e-ea83-4a30-cda6-53ce88dabaa7"
      },
      "execution_count": 14,
      "outputs": [
        {
          "output_type": "execute_result",
          "data": {
            "text/plain": [
              "'Python é uma linguagem de programação extremamente poderosa.'"
            ],
            "application/vnd.google.colaboratory.intrinsic+json": {
              "type": "string"
            }
          },
          "metadata": {},
          "execution_count": 14
        }
      ]
    },
    {
      "cell_type": "code",
      "source": [
        "# Utilize o método .split() para dividir a frase em palavras e imprima o resultado como uma lista.\n",
        "frase.split()"
      ],
      "metadata": {
        "colab": {
          "base_uri": "https://localhost:8080/"
        },
        "id": "uDesqmMXqAxy",
        "outputId": "20628750-37ca-45fe-db09-66eda5ae1f71"
      },
      "execution_count": 15,
      "outputs": [
        {
          "output_type": "execute_result",
          "data": {
            "text/plain": [
              "['Python',\n",
              " 'é',\n",
              " 'uma',\n",
              " 'linguagem',\n",
              " 'de',\n",
              " 'programação',\n",
              " 'extremamente',\n",
              " 'poderosa.']"
            ]
          },
          "metadata": {},
          "execution_count": 15
        }
      ]
    },
    {
      "cell_type": "code",
      "source": [
        "# Exercicio 3\n",
        "# Crie uma lista chamada frutas contendo os seguintes itens: \"maçã\", \"banana\", \"laranja\",\"uva\", \"abacaxi\".\n",
        "frutas = [\"maçã\", \"banana\", \"laranja\", \"uva\", \"abacaxi\"]\n",
        "frutas\n"
      ],
      "metadata": {
        "colab": {
          "base_uri": "https://localhost:8080/"
        },
        "id": "cQgtBS5yqVcD",
        "outputId": "a6a87735-5eff-46ab-83a7-de537ed93b15"
      },
      "execution_count": 16,
      "outputs": [
        {
          "output_type": "execute_result",
          "data": {
            "text/plain": [
              "['maçã', 'banana', 'laranja', 'uva', 'abacaxi']"
            ]
          },
          "metadata": {},
          "execution_count": 16
        }
      ]
    },
    {
      "cell_type": "code",
      "source": [
        "# Adicione o item \"manga\" à lista frutas utilizando o método .append() e imprima a lista novamente.\n",
        "frutas.append(\"manga\")\n",
        "frutas"
      ],
      "metadata": {
        "colab": {
          "base_uri": "https://localhost:8080/"
        },
        "id": "wNwEctYJqvYk",
        "outputId": "a7424d96-94cc-4e98-febb-956f5eea9aac"
      },
      "execution_count": 17,
      "outputs": [
        {
          "output_type": "execute_result",
          "data": {
            "text/plain": [
              "['maçã', 'banana', 'laranja', 'uva', 'abacaxi', 'manga']"
            ]
          },
          "metadata": {},
          "execution_count": 17
        }
      ]
    },
    {
      "cell_type": "code",
      "source": [
        "# Remova o item \"laranja\" da lista frutas utilizando o método .remove() e imprima a lista.\n",
        "frutas.remove(\"laranja\")\n",
        "frutas"
      ],
      "metadata": {
        "colab": {
          "base_uri": "https://localhost:8080/"
        },
        "id": "PfLBX97uq7MC",
        "outputId": "11897483-d1a1-4742-8b54-0cb19b138c05"
      },
      "execution_count": 18,
      "outputs": [
        {
          "output_type": "execute_result",
          "data": {
            "text/plain": [
              "['maçã', 'banana', 'uva', 'abacaxi', 'manga']"
            ]
          },
          "metadata": {},
          "execution_count": 18
        }
      ]
    },
    {
      "cell_type": "code",
      "source": [
        "# Acesse o terceiro item da lista frutas (lembrando que as listas começam em 0) e imprima-o.\n",
        "print(frutas[2])"
      ],
      "metadata": {
        "colab": {
          "base_uri": "https://localhost:8080/"
        },
        "id": "H546D1ZWrmkj",
        "outputId": "01c93f30-3d97-48ef-96ca-8b7b5428d56b"
      },
      "execution_count": 19,
      "outputs": [
        {
          "output_type": "stream",
          "name": "stdout",
          "text": [
            "uva\n"
          ]
        }
      ]
    },
    {
      "cell_type": "code",
      "source": [
        "# Ordene a lista frutas em ordem alfabética utilizando o método .sort() e imprima a lista.\n",
        "frutas.sort()\n",
        "frutas"
      ],
      "metadata": {
        "colab": {
          "base_uri": "https://localhost:8080/"
        },
        "id": "BKvjk9d0sAKA",
        "outputId": "4c5e9d56-3f1e-46ac-c6a3-f9e961662141"
      },
      "execution_count": 20,
      "outputs": [
        {
          "output_type": "execute_result",
          "data": {
            "text/plain": [
              "['abacaxi', 'banana', 'manga', 'maçã', 'uva']"
            ]
          },
          "metadata": {},
          "execution_count": 20
        }
      ]
    },
    {
      "cell_type": "code",
      "source": [
        "# - Crie uma lista chamada numeros com os valores [10, 5, 8, 3, 6]. Utilize a função sum() para calcular a soma de todos os elementos dessa lista e imprima o resultado.\n",
        "numeros = [10, 5, 8, 3, 6]\n",
        "sum(numeros)"
      ],
      "metadata": {
        "colab": {
          "base_uri": "https://localhost:8080/"
        },
        "id": "DdKCCKWosGHi",
        "outputId": "a9df503e-458b-417e-9a92-d0d98268e773"
      },
      "execution_count": 22,
      "outputs": [
        {
          "output_type": "execute_result",
          "data": {
            "text/plain": [
              "32"
            ]
          },
          "metadata": {},
          "execution_count": 22
        }
      ]
    },
    {
      "cell_type": "code",
      "source": [
        "# Exercicio 6\n",
        "# Crie um programa que receba a altura e o peso de uma pessoa e imprima seu IMC.\n",
        "print(\"***CALCULO DE IMC***\")\n",
        "print(\"Digite seu peso em kg: \")\n",
        "a = float(input())\n",
        "print(\"Digite sua altura: \")\n",
        "b = float(input())\n",
        "\n",
        "IMC = a/(b**2)\n",
        "\n",
        "print(\"Seu IMC é {IMC}kg/m²\".format(IMC = IMC))"
      ],
      "metadata": {
        "colab": {
          "base_uri": "https://localhost:8080/"
        },
        "id": "FZpksu0_sU50",
        "outputId": "60c0dbd8-c985-47cf-841f-6032dd52a09b"
      },
      "execution_count": 30,
      "outputs": [
        {
          "output_type": "stream",
          "name": "stdout",
          "text": [
            "***CALCULO DE IMC***\n",
            "Digite seu peso em kg: \n",
            "58\n",
            "Digite sua altura: \n",
            "1.71\n",
            "Seu IMC é 19.835162956123252kg/m²\n"
          ]
        }
      ]
    },
    {
      "cell_type": "code",
      "source": [
        "# Exercicio 7\n",
        "# Escreva um programa que pergunte o nome completo do usuário e o cumprimente pelo primeiro nome.\n",
        "print(\"Digite seu nome completo: \")\n",
        "nome = input()\n",
        "primeiro_nome = nome.split()[0]\n",
        "print(\"Olá,\", primeiro_nome)\n",
        "\n"
      ],
      "metadata": {
        "colab": {
          "base_uri": "https://localhost:8080/"
        },
        "id": "BW4pvIpBvPbj",
        "outputId": "cbdbd53a-1e89-41e1-e109-39b1a08db605"
      },
      "execution_count": 34,
      "outputs": [
        {
          "output_type": "stream",
          "name": "stdout",
          "text": [
            "Digite seu nome completo: \n",
            "Pedro Henrique\n",
            "Olá, Pedro\n"
          ]
        }
      ]
    },
    {
      "cell_type": "code",
      "source": [
        "# Exercicio 8\n",
        "# Escreva um código que extraia o domínio de um e-mail informado.\n",
        "print(\"Digite seu email: \")\n",
        "email = input()\n",
        "dominio = email.split(\"@\")[1]\n",
        "\n",
        "print(\"O domínio do seu email é\", dominio)"
      ],
      "metadata": {
        "colab": {
          "base_uri": "https://localhost:8080/"
        },
        "id": "xgPFQPfJxL3z",
        "outputId": "e1520152-484a-46fc-8fc2-a63e83e60eb3"
      },
      "execution_count": 39,
      "outputs": [
        {
          "output_type": "stream",
          "name": "stdout",
          "text": [
            "Digite seu email: \n",
            "ribeirocaldeirajph123@gmail.com\n",
            "O domínio do seu email é gmail.com\n"
          ]
        }
      ]
    }
  ]
}